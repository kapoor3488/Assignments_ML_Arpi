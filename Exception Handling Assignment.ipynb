{
 "cells": [
  {
   "cell_type": "markdown",
   "metadata": {},
   "source": [
    "## Exception Handling Assignment"
   ]
  },
  {
   "cell_type": "markdown",
   "metadata": {},
   "source": [
    "**Q1.)** Write a function to compute 5/0 and use try/except to catch the exceptions"
   ]
  },
  {
   "cell_type": "code",
   "execution_count": 8,
   "metadata": {},
   "outputs": [
    {
     "name": "stdout",
     "output_type": "stream",
     "text": [
      "Division by Zero is not allowed\n",
      "We reached the end of the program successfully\n"
     ]
    }
   ],
   "source": [
    "\n",
    "def compute(n):\n",
    "    try:\n",
    "        result = n/0\n",
    "    except:\n",
    "        print(\"Division by Zero is not allowed\")\n",
    "    else:\n",
    "        print(\"All is well\")\n",
    "    finally:\n",
    "        print(\"We reached the end of the program successfully\")\n",
    "\n",
    "compute(5)\n",
    "    "
   ]
  },
  {
   "cell_type": "code",
   "execution_count": 9,
   "metadata": {},
   "outputs": [
    {
     "name": "stdout",
     "output_type": "stream",
     "text": [
      "All is well\n",
      "We reached the end of the program successfully\n"
     ]
    }
   ],
   "source": [
    "def compute(n):\n",
    "    try:\n",
    "        result = n/1\n",
    "    except:\n",
    "        print(\"Division by Zero is not allowed\")\n",
    "    else:\n",
    "        print(\"All is well\")\n",
    "    finally:\n",
    "        print(\"We reached the end of the program successfully\")\n",
    "\n",
    "compute(5)"
   ]
  },
  {
   "cell_type": "markdown",
   "metadata": {},
   "source": [
    "**Q2.** Implement a Python program to generate all sentences where subject is in\n",
    "[\"Americans\", \"Indians\"] and verb is in [\"Play\", \"watch\"] and the object is in\n",
    "[\"Baseball\",\"cricket\"].\n",
    "\n",
    "Hint: Subject,Verb and Object should be declared in the program as shown below.\n",
    "subjects=[\"Americans \",\"Indians\"]\n",
    "verbs=[\"play\",\"watch\"]\n",
    "objects=[\"Baseball\",\"Cricket\"]\n",
    "\n",
    "\n",
    "Output should come as below:\n",
    "Americans play Baseball.\n",
    "Americans play Cricket.\n",
    "Americans watch Baseball.\n",
    "Americans watch Cricket.\n",
    "Indians play Baseball.\n",
    "Indians play Cricket.\n",
    "Indians watch Baseball.\n",
    "Indians watch Cricket."
   ]
  },
  {
   "cell_type": "code",
   "execution_count": 12,
   "metadata": {},
   "outputs": [
    {
     "name": "stdout",
     "output_type": "stream",
     "text": [
      "Americans Play Baseball\n",
      "Americans Play Cricket\n",
      "Americans Watch Baseball\n",
      "Americans Watch Cricket\n",
      "Indians Play Baseball\n",
      "Indians Play Cricket\n",
      "Indians Watch Baseball\n",
      "Indians Watch Cricket\n",
      "\n",
      "Execution Successful\n"
     ]
    }
   ],
   "source": [
    "\n",
    "def Display():\n",
    "   \n",
    "    try:\n",
    "        subjects = [\"Americans\",\"Indians\"]\n",
    "        verbs = [\"Play\",\"Watch\"]\n",
    "        objects = [\"Baseball\",\"Cricket\"]\n",
    "        for sub in subjects:\n",
    "            for v in verbs:\n",
    "                for obj in objects:\n",
    "                    print(sub+\" \"+v+\" \"+obj)\n",
    "    except:\n",
    "        print(\"An error was found\")\n",
    "    else:\n",
    "        print(\"\\nExecution Successful\")\n",
    "Display()"
   ]
  },
  {
   "cell_type": "code",
   "execution_count": null,
   "metadata": {},
   "outputs": [],
   "source": []
  }
 ],
 "metadata": {
  "kernelspec": {
   "display_name": "Python 3",
   "language": "python",
   "name": "python3"
  },
  "language_info": {
   "codemirror_mode": {
    "name": "ipython",
    "version": 3
   },
   "file_extension": ".py",
   "mimetype": "text/x-python",
   "name": "python",
   "nbconvert_exporter": "python",
   "pygments_lexer": "ipython3",
   "version": "3.7.6"
  }
 },
 "nbformat": 4,
 "nbformat_minor": 4
}
