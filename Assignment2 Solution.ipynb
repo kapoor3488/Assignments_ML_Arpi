{
 "cells": [
  {
   "cell_type": "markdown",
   "metadata": {},
   "source": [
    "## Assignment 2"
   ]
  },
  {
   "cell_type": "markdown",
   "metadata": {},
   "source": [
    "**Q1.**  Write a program which accepts a sequence of comma-separated numbers from console\n",
    "         and generate a list.\n"
   ]
  },
  {
   "cell_type": "code",
   "execution_count": 1,
   "metadata": {},
   "outputs": [
    {
     "name": "stdout",
     "output_type": "stream",
     "text": [
      "6\n",
      "Enter a number:\n",
      "5\n",
      "Enter a number:\n",
      "3\n",
      "Enter a number:\n",
      "78\n",
      "Enter a number:\n",
      "65\n",
      "Enter a number:\n",
      "0\n",
      "Enter a number:\n",
      "24\n",
      "The numbers entered by you are:  [5, 3, 78, 65, 0, 24]\n"
     ]
    }
   ],
   "source": [
    "print(\"How many numbers do you wish to enter\")\n",
    "count = int(input())\n",
    "x = []\n",
    "for i in range(count):\n",
    "    print(\"Enter a number:\")\n",
    "    number = int(input())\n",
    "    x.append((number))\n",
    "print(\"The numbers entered by you are: \",x)"
   ]
  },
  {
   "cell_type": "markdown",
   "metadata": {},
   "source": [
    "Q2. Write a program which accepts a sequence of comma-separated numbers from console\n",
    "and generate a list.\n",
    "*\n",
    "* *\n",
    "* * *\n",
    "* * * *\n",
    "* * * * *\n",
    "* * * *\n",
    "* * *\n",
    "* *\n",
    "*\n"
   ]
  },
  {
   "cell_type": "code",
   "execution_count": 3,
   "metadata": {},
   "outputs": [
    {
     "name": "stdout",
     "output_type": "stream",
     "text": [
      "\n",
      "* \n",
      "* * \n",
      "* * * \n",
      "* * * * \n",
      "* * * * * \n",
      "* * * * \n",
      "* * * \n",
      "* * \n",
      "* \n"
     ]
    }
   ],
   "source": [
    "count = 5\n",
    "for i in range(5):\n",
    "    for j in range(i):\n",
    "        print(\"*\", end = \" \")\n",
    "    print(end = \"\\n\")\n",
    "for i in range(5,0,-1):\n",
    "    for j in range(i):\n",
    "        print(\"*\", end = \" \")\n",
    "    print(end = \"\\n\")"
   ]
  },
  {
   "cell_type": "markdown",
   "metadata": {},
   "source": [
    "**Q3.** Write a Python program to reverse a word after accepting the input from the user. Example:\n",
    "        **Input word:** ineuron\n",
    "        **Output:** norueni\n"
   ]
  },
  {
   "cell_type": "code",
   "execution_count": 4,
   "metadata": {},
   "outputs": [
    {
     "name": "stdout",
     "output_type": "stream",
     "text": [
      "Enter a word:\n",
      "Arpita\n",
      "Reverse of this word is: atiprA\n"
     ]
    }
   ],
   "source": [
    "print(\"Enter a word:\")\n",
    "word = input()\n",
    "print(\"Reverse of this word is:\", word[::-1])"
   ]
  },
  {
   "cell_type": "code",
   "execution_count": 5,
   "metadata": {},
   "outputs": [
    {
     "name": "stdout",
     "output_type": "stream",
     "text": [
      "Enter a word:\n",
      "Arpita Kapoor\n",
      "Reverse of this word is: roopaK atiprA\n"
     ]
    }
   ],
   "source": [
    "print(\"Enter a word:\")\n",
    "word = input()\n",
    "print(\"Reverse of this word is:\", word[::-1])"
   ]
  },
  {
   "cell_type": "code",
   "execution_count": null,
   "metadata": {},
   "outputs": [],
   "source": []
  }
 ],
 "metadata": {
  "kernelspec": {
   "display_name": "Python 3",
   "language": "python",
   "name": "python3"
  },
  "language_info": {
   "codemirror_mode": {
    "name": "ipython",
    "version": 3
   },
   "file_extension": ".py",
   "mimetype": "text/x-python",
   "name": "python",
   "nbconvert_exporter": "python",
   "pygments_lexer": "ipython3",
   "version": "3.7.6"
  }
 },
 "nbformat": 4,
 "nbformat_minor": 4
}
