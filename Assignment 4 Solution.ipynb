{
 "cells": [
  {
   "cell_type": "markdown",
   "metadata": {},
   "source": [
    "## Assignment 4"
   ]
  },
  {
   "cell_type": "markdown",
   "metadata": {},
   "source": [
    "**Q1.1)** Write a Python Program(with class concepts) to find the area of the triangle using the below\n",
    "formula. Function to take the length of the sides of triangle from user should be defined in the parent\n",
    "class and function to calculate the area should be defined in subclass.\n",
    "Formula:\n",
    "Area = (s*(s-a)*(s-b)*(s-c)) ** 0.5\n"
   ]
  },
  {
   "cell_type": "code",
   "execution_count": 39,
   "metadata": {},
   "outputs": [
    {
     "name": "stdout",
     "output_type": "stream",
     "text": [
      "Enter the three sides of the triangle:\n",
      "Side 1:\n",
      "5\n",
      "Side 2:\n",
      "6\n",
      "Side 3:\n",
      "7\n",
      "Area of the triangle is: 14.696938456699069\n"
     ]
    }
   ],
   "source": [
    "class Triangle:\n",
    "    def __init__(self,a,b,c):\n",
    "        self.side1 = a\n",
    "        self.side2 = b\n",
    "        self.side3 = c\n",
    "        \n",
    "    def user_input(self):\n",
    "        \n",
    "        print(\"Enter the three sides of the triangle:\")\n",
    "        print(\"Side 1:\")\n",
    "        self.side1 = int(input())\n",
    "        print(\"Side 2:\")\n",
    "        self.side2 = int(input())\n",
    "        print(\"Side 3:\")\n",
    "        self.side3 = int(input())\n",
    "\n",
    "        \n",
    "class Calculation(Triangle):\n",
    "    def __init__(self,*args):\n",
    "        super(Calculation,self).__init__(*args)\n",
    "      \n",
    "    def Area(self, *args):\n",
    "        semiP = (self.side1 + self.side2 + self.side3)/2\n",
    "        area = (semiP*(semiP-self.side1)*(semiP-self.side2)*(semiP-self.side3))**0.5\n",
    "        return area\n",
    "\n",
    "obj_T1 = Calculation(0,0,0)\n",
    "obj_T1.user_input()\n",
    "Area = obj_T1.Area()\n",
    "print(\"Area of the triangle is:\", Area)"
   ]
  },
  {
   "cell_type": "markdown",
   "metadata": {},
   "source": [
    "**Q2.1** Write a Python program using function concept that maps list of words into a list of integers\n",
    "representing the lengths of the corresponding words.\n",
    "Hint: If a list [ ab,cde,erty] is passed on to the python function output should come as [2,3,4]\n",
    "Here 2,3 and 4 are the lengths of the words in the list."
   ]
  },
  {
   "cell_type": "code",
   "execution_count": 9,
   "metadata": {},
   "outputs": [
    {
     "data": {
      "text/plain": [
       "[5, 7, 6, 8, 6, 4]"
      ]
     },
     "execution_count": 9,
     "metadata": {},
     "output_type": "execute_result"
    }
   ],
   "source": [
    "names = [\"Arpit\",\"Prakhar\",\"Rinkie\",\"Chinkyyy\",\"Poonam\",\"Atul\"]\n",
    "names\n",
    "def manipulate(l):\n",
    "      length = len(l)\n",
    "      return length\n",
    "\n",
    "\n",
    "list(map(manipulate,names))"
   ]
  },
  {
   "cell_type": "markdown",
   "metadata": {},
   "source": [
    "**Q1.2** Write a function filter_long_words() that takes a list of words and an integer n and returns\n",
    "the list of words that are longer than n."
   ]
  },
  {
   "cell_type": "code",
   "execution_count": 18,
   "metadata": {},
   "outputs": [
    {
     "name": "stdout",
     "output_type": "stream",
     "text": [
      "Enter minimum length of words you wish to view\n",
      "6\n",
      "Words greater in length than 6 are: ['Pratishtha', 'Prakhar']\n"
     ]
    }
   ],
   "source": [
    "\n",
    "def filter_long_words(l,min):\n",
    "    #max = len(l[0])\n",
    "    new_list = []\n",
    "    \n",
    "    for i in l:\n",
    "        if min < len(i):\n",
    "            new_list.append(i)\n",
    "    return new_list\n",
    "            \n",
    "print(\"Enter minimum length of words you wish to view\")\n",
    "min_len = int(input())\n",
    "names = [\"Pratishtha\",\"Arpita\",\"Prakhar\",\"Rinkie\",\"Chinky\",\"Poonam\",\"Atul\"]\n",
    "new_list = filter_long_words(names,min_len)\n",
    "print(\"Words with length greater than\",min_len,\"are:\",new_list)"
   ]
  },
  {
   "cell_type": "markdown",
   "metadata": {},
   "source": [
    "**Q2.2** Write a Python function which takes a character (i.e. a string of length 1) and returns True if\n",
    "it is a vowel, False otherwise."
   ]
  },
  {
   "cell_type": "code",
   "execution_count": 27,
   "metadata": {},
   "outputs": [
    {
     "name": "stdout",
     "output_type": "stream",
     "text": [
      "Enter a character:\n",
      "j\n",
      "FALSE\n"
     ]
    }
   ],
   "source": [
    "def vowel(alpha):\n",
    "    if alpha in ['a','e','i','o','u']:\n",
    "        result = \"TRUE\"\n",
    "    else:\n",
    "        result = \"FALSE\"\n",
    "    return result\n",
    "\n",
    "print(\"Enter a character:\")\n",
    "alpha = input()\n",
    "result = vowel(alpha)\n",
    "print(result)\n"
   ]
  },
  {
   "cell_type": "code",
   "execution_count": null,
   "metadata": {},
   "outputs": [],
   "source": []
  }
 ],
 "metadata": {
  "kernelspec": {
   "display_name": "Python 3",
   "language": "python",
   "name": "python3"
  },
  "language_info": {
   "codemirror_mode": {
    "name": "ipython",
    "version": 3
   },
   "file_extension": ".py",
   "mimetype": "text/x-python",
   "name": "python",
   "nbconvert_exporter": "python",
   "pygments_lexer": "ipython3",
   "version": "3.7.6"
  }
 },
 "nbformat": 4,
 "nbformat_minor": 4
}
